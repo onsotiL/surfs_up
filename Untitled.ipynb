{
 "cells": [
  {
   "cell_type": "code",
   "execution_count": 7,
   "id": "32368397",
   "metadata": {},
   "outputs": [],
   "source": [
    "from flask import Flask\n",
    "#Create a New Flask App Instance\n",
    "#This __name__ variable denotes the name of the current function\n",
    "app = Flask(__name__) "
   ]
  },
  {
   "cell_type": "code",
   "execution_count": 8,
   "id": "669f4fbb",
   "metadata": {},
   "outputs": [],
   "source": [
    "#Incorporate Flask into Data Analysis\n",
    "#Flask lets you display results in a webpage with a URL.\n",
    "from flask import Flask\n",
    "#Create a New Flask App Instance\n",
    "app = Flask(__name__)\n",
    "\n",
    "#create our first route\n",
    "#The forward slash inside of the app.route denotes that we want to put our data at the root of our routes\n",
    "#create a function called hello_world().\n",
    "@app.route('/')\n",
    "def hello_world():\n",
    "    return 'Hello world'"
   ]
  },
  {
   "cell_type": "code",
   "execution_count": 1,
   "id": "6868690c",
   "metadata": {},
   "outputs": [],
   "source": [
    "import datetime as dt\n",
    "import numpy as np\n",
    "import pandas as pd\n",
    "import sqlalchemy\n",
    "from sqlalchemy.ext.automap import automap_base\n",
    "from sqlalchemy.orm import Session\n",
    "from sqlalchemy import create_engine, func\n",
    "from flask import Flask, jsonify"
   ]
  },
  {
   "cell_type": "code",
   "execution_count": null,
   "id": "7cc4c3b1",
   "metadata": {},
   "outputs": [],
   "source": []
  }
 ],
 "metadata": {
  "kernelspec": {
   "display_name": "PythonData",
   "language": "python",
   "name": "pythondata"
  },
  "language_info": {
   "codemirror_mode": {
    "name": "ipython",
    "version": 3
   },
   "file_extension": ".py",
   "mimetype": "text/x-python",
   "name": "python",
   "nbconvert_exporter": "python",
   "pygments_lexer": "ipython3",
   "version": "3.7.10"
  }
 },
 "nbformat": 4,
 "nbformat_minor": 5
}
